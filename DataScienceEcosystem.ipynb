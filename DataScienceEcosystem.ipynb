{
  "nbformat": 4,
  "nbformat_minor": 0,
  "metadata": {
    "colab": {
      "provenance": []
    },
    "kernelspec": {
      "name": "python3",
      "display_name": "Python 3"
    },
    "language_info": {
      "name": "python"
    }
  },
  "cells": [
    {
      "cell_type": "markdown",
      "source": [
        "#Data Science Tools and Ecosystem"
      ],
      "metadata": {
        "id": "_r0Tn03Fp4mo"
      }
    },
    {
      "cell_type": "markdown",
      "source": [
        "## Introduction\n",
        "This notebook is a final project demonstrating various skills in data science, including creating markdown cells, using different data science languages and libraries, arithmetic operations, and sharing the project via GitHub.\n"
      ],
      "metadata": {
        "id": "GQGwBKcHqG4P"
      }
    },
    {
      "cell_type": "markdown",
      "source": [
        "## Data Science Languages\n",
        "- Python\n",
        "- R\n",
        "- SQL\n",
        "- Julia\n",
        "- Java\n",
        "- Scala"
      ],
      "metadata": {
        "id": "2zJD83a_qQmp"
      }
    },
    {
      "cell_type": "markdown",
      "source": [
        "## Data Science Libraries\n",
        "- NumPy\n",
        "- Pandas\n",
        "- Matplotlib\n",
        "- Scikit-learn\n",
        "- TensorFlow\n",
        "- Keras"
      ],
      "metadata": {
        "id": "VORwfuCbqWIQ"
      }
    },
    {
      "cell_type": "markdown",
      "source": [
        "## Data Science Tools\n",
        "| Tool             | Description                               |\n",
        "|------------------|-------------------------------------------|\n",
        "| Jupyter Notebook | Interactive computing environment         |\n",
        "| RStudio          | Integrated development environment for R  |\n",
        "| Apache Spark     | Unified analytics engine for big data     |\n",
        "| TensorFlow       | End-to-end open-source machine learning   |\n",
        "| Tableau          | Data visualization tool                   |"
      ],
      "metadata": {
        "id": "lxjmp_Eaqden"
      }
    },
    {
      "cell_type": "markdown",
      "source": [
        "## Arithmetic Expression Examples\n",
        "Here are some examples of arithmetic expressions in Python:\n",
        "\n",
        "```python\n",
        "# Multiply two numbers"
      ],
      "metadata": {
        "id": "U5snyYy6qgII"
      }
    },
    {
      "cell_type": "code",
      "source": [
        "# Multiply two numbers\n",
        "a = 5\n",
        "b = 4\n",
        "multiplication = a * b\n",
        "multiplication\n",
        "\n",
        "# Add two numbers\n",
        "addition = a + b\n",
        "addition"
      ],
      "metadata": {
        "colab": {
          "base_uri": "https://localhost:8080/"
        },
        "id": "NVtoCI7YqluZ",
        "outputId": "19cd69d6-ed67-4436-9042-e8039e53280b"
      },
      "execution_count": 2,
      "outputs": [
        {
          "output_type": "execute_result",
          "data": {
            "text/plain": [
              "9"
            ]
          },
          "metadata": {},
          "execution_count": 2
        }
      ]
    },
    {
      "cell_type": "code",
      "source": [
        "# Convert minutes to hours\n",
        "minutes = 120\n",
        "hours = minutes / 60\n",
        "hours\n"
      ],
      "metadata": {
        "colab": {
          "base_uri": "https://localhost:8080/"
        },
        "id": "9a9fSN-Yq0TH",
        "outputId": "206dca4b-4b4e-4b5c-be76-4073cf57e677"
      },
      "execution_count": 3,
      "outputs": [
        {
          "output_type": "execute_result",
          "data": {
            "text/plain": [
              "2.0"
            ]
          },
          "metadata": {},
          "execution_count": 3
        }
      ]
    },
    {
      "cell_type": "markdown",
      "source": [
        "#Author\n",
        "Soham Mokal"
      ],
      "metadata": {
        "id": "3-s-JtBTq9-J"
      }
    },
    {
      "cell_type": "code",
      "source": [],
      "metadata": {
        "id": "Lu95SrRnq_Gw"
      },
      "execution_count": null,
      "outputs": []
    }
  ]
}